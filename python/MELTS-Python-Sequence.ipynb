{
 "cells": [
  {
   "cell_type": "markdown",
   "metadata": {},
   "source": [
    "# Perform a sequence of MELTS calculations"
   ]
  },
  {
   "cell_type": "code",
   "execution_count": null,
   "metadata": {
    "collapsed": false
   },
   "outputs": [],
   "source": [
    "import pymelts\n",
    "import numpy as np\n",
    "import matplotlib.pyplot as plt\n",
    "from pymelts.utilities import cycle_cmap, celsius\n",
    "%matplotlib inline"
   ]
  },
  {
   "cell_type": "markdown",
   "metadata": {},
   "source": [
    "Read in the configuration file, generate MeltCollection"
   ]
  },
  {
   "cell_type": "code",
   "execution_count": null,
   "metadata": {
    "collapsed": false
   },
   "outputs": [],
   "source": [
    "fpath = 'examples/data/komatiite/komatiite.melts'\n",
    "config_file = pymelts.readers.read_config_file(fpath)\n",
    "print config_file\n",
    "collection = pymelts.MeltCollection(\n",
    "    solve=True,\n",
    "    mode='ptx',\n",
    "    temperature=(1500, 1250, 25),\n",
    "    pressure=100,\n",
    "    composition=config_file['composition'])"
   ]
  },
  {
   "cell_type": "markdown",
   "metadata": {},
   "source": [
    "# ... and plot the results."
   ]
  },
  {
   "cell_type": "code",
   "execution_count": null,
   "metadata": {
    "collapsed": false
   },
   "outputs": [],
   "source": [
    "x = []\n",
    "y1 = []\n",
    "y2 = []\n",
    "for melt in collection:\n",
    "    if 'liquid' in melt.properties:\n",
    "        t = melt.temperature\n",
    "        composition = melt.properties['liquid']['composition']\n",
    "        composition.normalize()\n",
    "        x.append(t)\n",
    "        y1.append(composition['SiO2'])\n",
    "        y2.append(composition['MgO'])\n",
    "        print t, composition['SiO2']\n",
    "plt.subplot(2,1,1)\n",
    "plt.plot(x, y1, 'r.-')\n",
    "plt.xlabel('temperature')\n",
    "plt.ylabel('SiO2 wt')\n",
    "plt.subplot(2,1,2)\n",
    "plt.plot(x, y2, 'yo-')\n",
    "plt.xlabel('temperature')\n",
    "plt.ylabel('MgO wt')\n",
    "plt.show()"
   ]
  },
  {
   "cell_type": "code",
   "execution_count": null,
   "metadata": {
    "collapsed": true
   },
   "outputs": [],
   "source": []
  }
 ],
 "metadata": {
  "anaconda-cloud": {},
  "kernelspec": {
   "display_name": "Python [Root]",
   "language": "python",
   "name": "Python [Root]"
  },
  "language_info": {
   "codemirror_mode": {
    "name": "ipython",
    "version": 2
   },
   "file_extension": ".py",
   "mimetype": "text/x-python",
   "name": "python",
   "nbconvert_exporter": "python",
   "pygments_lexer": "ipython2",
   "version": "2.7.11"
  }
 },
 "nbformat": 4,
 "nbformat_minor": 0
}
