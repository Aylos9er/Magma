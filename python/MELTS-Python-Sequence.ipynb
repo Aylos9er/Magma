{
 "cells": [
  {
   "cell_type": "markdown",
   "metadata": {},
   "source": [
    "# Perform a sequence of MELTS calculations"
   ]
  },
  {
   "cell_type": "code",
   "execution_count": 1,
   "metadata": {
    "collapsed": false
   },
   "outputs": [
    {
     "name": "stderr",
     "output_type": "stream",
     "text": [
      "/Users/ghiorso/anaconda/lib/python2.7/site-packages/matplotlib/font_manager.py:273: UserWarning: Matplotlib is building the font cache using fc-list. This may take a moment.\n",
      "  warnings.warn('Matplotlib is building the font cache using fc-list. This may take a moment.')\n"
     ]
    }
   ],
   "source": [
    "import pymelts\n",
    "import numpy as np\n",
    "import matplotlib.pyplot as plt\n",
    "from pymelts.utilities import cycle_cmap, celsius"
   ]
  },
  {
   "cell_type": "markdown",
   "metadata": {},
   "source": [
    "Read in the configuration file, generate MeltCollection"
   ]
  },
  {
   "cell_type": "code",
   "execution_count": 2,
   "metadata": {
    "collapsed": false
   },
   "outputs": [
    {
     "name": "stdout",
     "output_type": "stream",
     "text": [
      "{'pressure': (0.03, 0.03, 0.0), 'state': {'oxidation': 'log fo2 Path: FMQ\\n', 'dp/dt': 0.0}, 'extras': ['Title: komatiite\\n'], 'composition': [46.9, 0.27, 6.5, 0.4425, 0.45, 9.5116, 0.2, 30.0, 0.15, 0.0, 5.0, 0.43, 0.1, 0.0, 0.0, 0.0, 0.0, 0.0, 0.0], 'temperature': (1089.0, 500.0, 1.0)}\n",
      "(100, True, 'ptx', 1500.0)\n",
      "(100, True, 'ptx', 1472.2222222222222)\n",
      "(100, True, 'ptx', 1444.4444444444443)\n",
      "(100, True, 'ptx', 1416.6666666666667)\n",
      "(100, True, 'ptx', 1388.8888888888889)\n",
      "(100, True, 'ptx', 1361.1111111111111)\n",
      "(100, True, 'ptx', 1333.3333333333333)\n",
      "(100, True, 'ptx', 1305.5555555555557)\n",
      "(100, True, 'ptx', 1277.7777777777778)\n",
      "(100, True, 'ptx', 1250.0)\n"
     ]
    }
   ],
   "source": [
    "fpath = '/Users/ghiorso/Documents/ARCHIVE_CODE/xMelts/python/examples/data/komatiite/komatiite.melts'\n",
    "config_file = pymelts.readers.read_config_file(fpath)\n",
    "print config_file\n",
    "collection = pymelts.MeltCollection(\n",
    "    solve=True,\n",
    "    mode='ptx',\n",
    "    temperature=(1500, 1250, 25),\n",
    "    pressure=100,\n",
    "    composition=config_file['composition'])"
   ]
  },
  {
   "cell_type": "markdown",
   "metadata": {},
   "source": [
    "# ... and plot the results."
   ]
  },
  {
   "cell_type": "code",
   "execution_count": null,
   "metadata": {
    "collapsed": false
   },
   "outputs": [
    {
     "name": "stdout",
     "output_type": "stream",
     "text": [
      "1500.0 54.6270386864\n",
      "1472.22222222 54.4699130375\n",
      "1444.44444444 54.9997105235\n",
      "1416.66666667 56.632170886\n",
      "1388.88888889 58.3945319954\n",
      "1361.11111111 59.3731040483\n",
      "1333.33333333 59.8948333936\n"
     ]
    }
   ],
   "source": [
    "x = []\n",
    "y1 = []\n",
    "y2 = []\n",
    "for melt in collection:\n",
    "    if 'liquid' in melt.properties:\n",
    "        t = melt.temperature\n",
    "        composition = melt.properties['liquid']['composition']\n",
    "        composition.normalize()\n",
    "        x.append(t)\n",
    "        y1.append(composition['SiO2'])\n",
    "        y2.append(composition['MgO'])\n",
    "        print t, composition['SiO2']\n",
    "plt.subplot(2,1,1)\n",
    "plt.plot(x, y1, 'r.-')\n",
    "plt.xlabel('temperature')\n",
    "plt.ylabel('SiO2 wt')\n",
    "plt.subplot(2,1,2)\n",
    "plt.plot(x, y2, 'yo-')\n",
    "plt.xlabel('temperature')\n",
    "plt.ylabel('MgO wt')\n",
    "plt.show()"
   ]
  },
  {
   "cell_type": "code",
   "execution_count": null,
   "metadata": {
    "collapsed": true
   },
   "outputs": [],
   "source": []
  }
 ],
 "metadata": {
  "kernelspec": {
   "display_name": "Python [Root]",
   "language": "python",
   "name": "Python [Root]"
  },
  "language_info": {
   "codemirror_mode": {
    "name": "ipython",
    "version": 2
   },
   "file_extension": ".py",
   "mimetype": "text/x-python",
   "name": "python",
   "nbconvert_exporter": "python",
   "pygments_lexer": "ipython2",
   "version": "2.7.11"
  }
 },
 "nbformat": 4,
 "nbformat_minor": 0
}
