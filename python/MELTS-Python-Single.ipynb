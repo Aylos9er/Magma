{
 "cells": [
  {
   "cell_type": "markdown",
   "metadata": {},
   "source": [
    "# MELTS - python binding workbook\n",
    "## Perform single calculation with pickup"
   ]
  },
  {
   "cell_type": "code",
   "execution_count": null,
   "metadata": {
    "collapsed": false
   },
   "outputs": [],
   "source": [
    "import pymelts\n",
    "import matplotlib.pyplot"
   ]
  },
  {
   "cell_type": "markdown",
   "metadata": {},
   "source": [
    "## Create instance of the MELTS engine class"
   ]
  },
  {
   "cell_type": "code",
   "execution_count": null,
   "metadata": {
    "collapsed": false
   },
   "outputs": [],
   "source": [
    "engine = pymelts.Engine()"
   ]
  },
  {
   "cell_type": "markdown",
   "metadata": {},
   "source": [
    "## Test get oxide and phase names functions"
   ]
  },
  {
   "cell_type": "code",
   "execution_count": null,
   "metadata": {
    "collapsed": false
   },
   "outputs": [],
   "source": [
    "print engine.get_oxide_names()\n",
    "print engine.get_phase_names()"
   ]
  },
  {
   "cell_type": "markdown",
   "metadata": {
    "collapsed": true
   },
   "source": [
    "## Perform a MELTS calculation"
   ]
  },
  {
   "cell_type": "code",
   "execution_count": null,
   "metadata": {
    "collapsed": false
   },
   "outputs": [],
   "source": [
    "melt = pymelts.Melt(\n",
    "        composition=pymelts.Composition(\n",
    "            SiO2=48.68, TiO2=1.01, Al2O3=17.64, Fe2O3=0.89, \n",
    "            Cr2O3=0.0425, FeO=7.59, MnO=0.0, MgO=9.10, \n",
    "            CaO=12.45, Na2O=2.65, K2O=0.03, P2O5=0.08, H2O=0.2),\n",
    "        temperature=1400., \n",
    "        pressure=1000.,\n",
    "        mode='ptx',\n",
    "        calculationString='MELTS_v1.0.2',\n",
    "        solve=True)\n",
    "print melt.status\n",
    "print melt.properties\n",
    "print melt.calculationDatabase"
   ]
  },
  {
   "cell_type": "code",
   "execution_count": null,
   "metadata": {
    "collapsed": false
   },
   "outputs": [],
   "source": [
    "melt.properties['liquid']['composition'].normalize()\n",
    "print melt.properties['liquid']['composition'].pretty_print()"
   ]
  },
  {
   "cell_type": "markdown",
   "metadata": {},
   "source": [
    "## Generate a continuation call with another enthalpy"
   ]
  },
  {
   "cell_type": "code",
   "execution_count": null,
   "metadata": {
    "collapsed": false
   },
   "outputs": [],
   "source": [
    "melt.set_mode('phx')\n",
    "results_string = (\"System: P = {0.pressure:9.4g} kPa, \"\n",
    "        + \"H = {0.enthalpy:9.4g} J, \"\n",
    "        + \"T = {0.temperature:9.4g} deg C\\n\")\n",
    "output = \"\"\n",
    "for i in range(1, 10):\n",
    "    melt.enthalpy -= 1000.\n",
    "    melt.solve()\n",
    "    output += results_string.format(melt)\n",
    "\n",
    "print output"
   ]
  },
  {
   "cell_type": "code",
   "execution_count": null,
   "metadata": {
    "collapsed": false
   },
   "outputs": [],
   "source": [
    "print melt.status\n",
    "print melt.properties"
   ]
  },
  {
   "cell_type": "code",
   "execution_count": null,
   "metadata": {
    "collapsed": true
   },
   "outputs": [],
   "source": []
  }
 ],
 "metadata": {
  "anaconda-cloud": {},
  "kernelspec": {
   "display_name": "Python [Root]",
   "language": "python",
   "name": "Python [Root]"
  },
  "language_info": {
   "codemirror_mode": {
    "name": "ipython",
    "version": 2
   },
   "file_extension": ".py",
   "mimetype": "text/x-python",
   "name": "python",
   "nbconvert_exporter": "python",
   "pygments_lexer": "ipython2",
   "version": "2.7.11"
  }
 },
 "nbformat": 4,
 "nbformat_minor": 0
}
