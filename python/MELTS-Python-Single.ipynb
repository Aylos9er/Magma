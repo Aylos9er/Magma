{
 "cells": [
  {
   "cell_type": "markdown",
   "metadata": {},
   "source": [
    "# MELTS - python binding workbook\n",
    "## Perform single calculation with pickup"
   ]
  },
  {
   "cell_type": "code",
   "execution_count": 1,
   "metadata": {
    "collapsed": false
   },
   "outputs": [
    {
     "name": "stderr",
     "output_type": "stream",
     "text": [
      "/Users/ghiorso/anaconda/lib/python2.7/site-packages/matplotlib/font_manager.py:273: UserWarning: Matplotlib is building the font cache using fc-list. This may take a moment.\n",
      "  warnings.warn('Matplotlib is building the font cache using fc-list. This may take a moment.')\n"
     ]
    }
   ],
   "source": [
    "import pymelts\n",
    "import matplotlib.pyplot"
   ]
  },
  {
   "cell_type": "markdown",
   "metadata": {},
   "source": [
    "## Create instance of the MELTS engine class"
   ]
  },
  {
   "cell_type": "code",
   "execution_count": 2,
   "metadata": {
    "collapsed": false
   },
   "outputs": [],
   "source": [
    "engine = pymelts.Engine()"
   ]
  },
  {
   "cell_type": "markdown",
   "metadata": {},
   "source": [
    "## Test get oxide and phase names functions"
   ]
  },
  {
   "cell_type": "code",
   "execution_count": 3,
   "metadata": {
    "collapsed": false
   },
   "outputs": [
    {
     "name": "stdout",
     "output_type": "stream",
     "text": [
      "['SiO2', 'TiO2', 'Al2O3', 'Fe2O3', 'Cr2O3', 'FeO', 'MnO', 'MgO', 'NiO', 'CoO', 'CaO', 'Na2O', 'K2O', 'P2O5', 'H2O', 'CO2', 'SO3', 'Cl2O-1', 'F2O-1']\n",
      "['olivine', 'fayalite', 'sphene', 'garnet', 'melilite', 'orthopyroxene', 'clinopyroxene', 'aegirine', 'aenigmatite', 'cummingtonite', 'amphibole', 'hornblende', 'biotite', 'muscovite', 'feldspar', 'quartz', 'tridymite', 'cristobalite', 'nepheline', 'kalsilite', 'leucite', 'corundum', 'sillimanite', 'rutile', 'perovskite', 'spinel', 'rhm-oxide', 'ortho-oxide', 'whitlockite', 'apatite', 'water', 'fluid', 'alloy-solid', 'alloy-liquid', 'lime', 'periclase', 'calcite', 'aragonite', 'magnesite', 'siderite', 'dolomite', 'spurrite', 'tilleyite', 'diamond', 'graphite', 'system', 'liquid']\n"
     ]
    }
   ],
   "source": [
    "print engine.get_oxide_names()\n",
    "print engine.get_phase_names()"
   ]
  },
  {
   "cell_type": "markdown",
   "metadata": {
    "collapsed": true
   },
   "source": [
    "## Perform a MELTS calculation"
   ]
  },
  {
   "cell_type": "code",
   "execution_count": 4,
   "metadata": {
    "collapsed": false
   },
   "outputs": [
    {
     "name": "stdout",
     "output_type": "stream",
     "text": [
      "{'status_msg': 'Successful run.  No errors.', 'iterations': -1}\n",
      "{'status': {'status_msg': 'Successful run.  No errors.', 'composition': [], 'iterations': -1}, 'liquid': {'FeO1_3': 0.26483950545702034, 'd2VdP2': 5.598790692881596e-09, 'G': -385397.02331273933, 'density': 40.74218263023509, 'd2VdT2': 7.024566319108309e-08, 'H': -292058.7007824769, 'dVdP': -8.091573726632528e-05, 'dVdT': 0.0008850452172143906, 'dCpdT': 0.0003840738072701552, 'S': 66.67023037875882, 'V': 9.311699635185324, 'Cp': 35.80706827714885, 'volume fraction': 2676.065581546428, 'composition': [12.126433948814613, 0.6354744912908342, 3.5424371909310386, 0.4832914975764462, 0.005929043040976016, 3.177371526125912, 0.0, 1.3362407481689709, 0.0, 0.0, 2.242615665182616, 1.0640167876171456, 0.024908000669323183, 0.07999999999999871, 0.2, 0.0, 0.0, 0.0, 0.0], 'd2VdTdP': -2.2493769532540227e-08}, 'spinel': {'FeO1_3': 0.0018435996466162443, 'd2VdP2': 5.12991468200749e-14, 'G': -2948.1904180318706, 'density': 0.0, 'd2VdT2': 6.853863821203119e-10, 'H': -2072.820622371677, 'dVdP': -2.200908792977552e-08, 'dVdT': 1.7992905936529988e-06, 'dCpdT': 2.922804977323184e-05, 'S': 0.6252641397572812, 'V': 0.06482056416470026, 'Cp': 0.2839824351912571, 'volume fraction': 4420.182344520765, 'composition': [0.0, 0.04460274565498815, 0.03145006998107533, 0.05254392954905129, 0.03657095695902399, 0.09330036878380127, 0.0, 0.028050642354743482, 0.0, 0.0, 0.0, 0.0, 0.0, 0.0, 0.0, 0.0, 0.0, 0.0, 0.0], 'd2VdTdP': 0.0}, 'system': {'FeO1_3': 1.0, 'd2VdP2': 0.0008182543224535437, 'G': -1623427.826067051, 'density': 0.0, 'd2VdT2': 0.0008183189693260419, 'H': -1281008.5359476549, 'dVdP': 0.0007373329863965255, 'dVdT': 0.0017032939408772414, 'dCpdT': 0.008961268311678745, 'S': 244.58520722814004, 'V': 35.15978335300312, 'Cp': 126.75385867384404, 'volume fraction': 2854.468669285122, 'composition': [48.68, 1.01, 17.64, 0.89, 0.0425, 7.59, 0.0, 9.1, 0.0, 0.0, 12.45, 2.65, 0.03, 0.08, 0.2, 0.0, 0.0, 0.0, 0.0], 'd2VdTdP': 0.0008182262298933183}, 'clinopyroxene': {'FeO1_3': 0.19293930694235437, 'd2VdP2': 1.991601990704871e-11, 'G': -352745.8687585552, 'density': 0.0, 'd2VdT2': 9.934429606886371e-08, 'H': -281697.3535419328, 'dVdP': -5.712332122400584e-06, 'dVdT': 0.0002849083552486718, 'dCpdT': 0.0021206333196689994, 'S': 50.74893944044456, 'V': 6.7837042323717505, 'Cp': 26.0299623617108, 'volume fraction': 3267.4007061085367, 'composition': [10.944570211827765, 0.32992276305417784, 1.20024533185921, 0.354164572874501, 0.0, 1.5149818821420946, 0.0, 3.297632545250103, 0.0, 0.0, 4.46543927751706, 0.05812341435801136, 0.0, 0.0, 0.0, 0.0, 0.0, 0.0, 0.0], 'd2VdTdP': -9.655782692030755e-13}, 'olivine': {'FeO1_3': 0.09887322226073812, 'd2VdP2': 6.628975874585208e-12, 'G': -173643.17957862152, 'density': 0.0, 'd2VdT2': 5.733590302938084e-08, 'H': -135092.6365311742, 'dVdP': -2.5811779479248877e-06, 'dVdT': 0.00015871331406628778, 'dCpdT': 0.0014169720769217312, 'S': 27.53610217674806, 'V': 3.4763610741008777, 'Cp': 14.121078371034432, 'volume fraction': 3394.8032581084344, 'composition': [4.508049556451767, 0.0, 0.0, 0.0, 0.0, 2.8043462229481886, 0.0, 4.43807606422618, 0.0, 0.0, 0.05109005709285993, 0.0, 0.0, 0.0, 0.0, 0.0, 0.0, 0.0, 0.0], 'd2VdTdP': 7.636279580184024e-14}, 'feldspar': {'FeO1_3': 0.44150436569327106, 'd2VdP2': 1.1339250924226001e-10, 'G': -708693.563999103, 'density': 0.0, 'd2VdT2': 1.181562167521383e-07, 'H': -570087.0244696992, 'dVdP': -2.258174610345634e-05, 'dVdT': 0.0003728277637542382, 'dCpdT': 0.005010361058044626, 'S': 99.0046710924313, 'V': 15.523197847180475, 'Cp': 50.511767228758686, 'volume fraction': 2653.4880823656476, 'composition': [21.100946282905827, 0.0, 12.865867407228672, 0.0, 0.0, 0.0, 0.0, 0.0, 0.0, 0.0, 5.690855000207458, 1.5278597980248418, 0.005091999330674629, 0.0, 0.0, 0.0, 0.0, 0.0, 0.0], 'd2VdTdP': 0.0}, 'system variables': {'pressure': 1000.0, 'enthalpy': -1281008.5359476549, 'composition': [48.68, 1.01, 17.64, 0.89, 0.0425, 7.59, 0.0, 9.1, 0.0, 0.0, 12.45, 2.65, 0.03, 0.08, 0.2, 0.0, 0.0, 0.0, 0.0], 'temperature': 1400.0}}\n"
     ]
    }
   ],
   "source": [
    "melt = pymelts.Melt(\n",
    "        composition=pymelts.Composition(\n",
    "            SiO2=48.68, TiO2=1.01, Al2O3=17.64, Fe2O3=0.89, \n",
    "            Cr2O3=0.0425, FeO=7.59, MnO=0.0, MgO=9.10, \n",
    "            CaO=12.45, Na2O=2.65, K2O=0.03, P2O5=0.08, H2O=0.2),\n",
    "        temperature=1400., \n",
    "        pressure=1000.,\n",
    "        mode='ptx',\n",
    "        solve=True)\n",
    "print melt.status\n",
    "print melt.properties"
   ]
  },
  {
   "cell_type": "code",
   "execution_count": 5,
   "metadata": {
    "collapsed": false
   },
   "outputs": [
    {
     "name": "stdout",
     "output_type": "stream",
     "text": [
      "\tSiO2\t= 48.663954\tTiO2\t= 2.550189\tAl2O3\t= 14.215968\n",
      "\tFe2O3\t= 1.939472\tCr2O3\t= 0.023794\tFeO\t= 12.750943\n",
      "\tMnO\t= 0.000000\tMgO\t= 5.362397\tNiO\t= 0.000000\n",
      "\tCoO\t= 0.000000\tCaO\t= 8.999723\tNa2O\t= 4.269950\n",
      "\tK2O\t= 0.099957\tP2O5\t= 0.321044\tH2O\t= 0.802609\n",
      "\tCO2\t= 0.000000\tSO3\t= 0.000000\tCl2O-1\t= 0.000000\n",
      "\tF2O-1\t= 0.000000\n",
      "\n"
     ]
    }
   ],
   "source": [
    "melt.properties['liquid']['composition'].normalize()\n",
    "print melt.properties['liquid']['composition'].pretty_print()"
   ]
  },
  {
   "cell_type": "markdown",
   "metadata": {},
   "source": [
    "## Generate a continuation call with another enthalpy"
   ]
  },
  {
   "cell_type": "code",
   "execution_count": 6,
   "metadata": {
    "collapsed": false
   },
   "outputs": [
    {
     "name": "stdout",
     "output_type": "stream",
     "text": [
      "System: P =      1000 kPa, H = -1.282e+06 J, T =      1396 deg C\n",
      "System: P =      1000 kPa, H = -1.283e+06 J, T =      1392 deg C\n",
      "System: P =      1000 kPa, H = -1.284e+06 J, T =      1388 deg C\n",
      "System: P =      1000 kPa, H = -1.285e+06 J, T =      1384 deg C\n",
      "System: P =      1000 kPa, H = -1.286e+06 J, T =      1380 deg C\n",
      "System: P =      1000 kPa, H = -1.287e+06 J, T =      1376 deg C\n",
      "System: P =      1000 kPa, H = -1.288e+06 J, T =      1371 deg C\n",
      "System: P =      1000 kPa, H = -1.289e+06 J, T =      1366 deg C\n",
      "System: P =      1000 kPa, H = -1.29e+06 J, T =      1361 deg C\n",
      "\n"
     ]
    }
   ],
   "source": [
    "melt.set_mode('phx')\n",
    "results_string = (\"System: P = {0.pressure:9.4g} kPa, \"\n",
    "        + \"H = {0.enthalpy:9.4g} J, \"\n",
    "        + \"T = {0.temperature:9.4g} deg C\\n\")\n",
    "output = \"\"\n",
    "for i in range(1, 10):\n",
    "    melt.enthalpy -= 1000.\n",
    "    melt.solve()\n",
    "    output += results_string.format(melt)\n",
    "\n",
    "print output"
   ]
  },
  {
   "cell_type": "code",
   "execution_count": 7,
   "metadata": {
    "collapsed": false
   },
   "outputs": [
    {
     "name": "stdout",
     "output_type": "stream",
     "text": [
      "{'status_msg': 'Successful run.  No errors.', 'iterations': -1}\n",
      "{'status': {'status_msg': 'Successful run.  No errors.', 'composition': [], 'iterations': -1}, 'liquid': {'FeO1_3': 0.15056407096675675, 'd2VdP2': 4.924512714846045e-09, 'G': -210021.47229456637, 'density': 86.80557758705426, 'd2VdT2': 7.538123389197554e-08, 'H': -160768.19413101516, 'dVdP': -5.8482713749617366e-05, 'dVdT': 0.0005626941459491841, 'dCpdT': 0.0003183881252661453, 'S': 36.18197491387628, 'V': 5.232603181601574, 'Cp': 19.095596836252582, 'volume fraction': 2553.657422764543, 'composition': [6.928270477078316, 0.24793938687029962, 1.99060160081581, 0.20417329414347002, 0.0004657181282409747, 1.4424991792991686, 0.0, 0.5028816194742748, 0.0, 0.0, 1.019757933604101, 0.723601217812793, 0.02208552785175001, 0.07999999999999881, 0.2, 0.0, 0.0, 0.0, 0.0], 'd2VdTdP': -2.1240542633823297e-08}, 'spinel': {'FeO1_3': 0.007755391434405649, 'd2VdP2': 2.1978623631708314e-13, 'G': -11646.518734722395, 'density': 0.0, 'd2VdT2': 2.7106134462018144e-09, 'H': -8115.224382133987, 'dVdP': -8.336675177183848e-08, 'dVdT': 6.870240977890074e-06, 'dCpdT': 0.00011957577810760228, 'S': 2.5941258824355677, 'V': 0.26952569516532604, 'Cp': 1.165909659740952, 'volume fraction': 4486.742750203533, 'composition': [0.0, 0.27599253679019453, 0.0733091025475881, 0.22511938760698263, 0.04203428187175903, 0.4953070166070293, 0.0, 0.09753013335304077, 0.0, 0.0, 0.0, 0.0, 0.0, 0.0, 0.0, 0.0, 0.0, 0.0, 0.0], 'd2VdTdP': 0.0}, 'system': {'FeO1_3': 1.0, 'd2VdP2': 0.0009327839228014975, 'G': -1614086.2660142125, 'density': 0.0, 'd2VdT2': 0.0009328543795226747, 'H': -1290008.5359476544, 'dVdP': 0.0008742962845391654, 'dVdT': 0.0014954731442379668, 'dCpdT': 0.01051372556295267, 'S': 238.07090079318942, 'V': 34.75333223924908, 'Cp': 122.9756359064184, 'volume fraction': 2887.8525750878775, 'composition': [48.68, 1.01, 17.64, 0.89, 0.0425, 7.59, 0.0, 9.1, 0.0, 0.0, 12.45, 2.65, 0.03, 0.08, 0.2, 0.0, 0.0, 0.0, 0.0], 'd2VdTdP': 0.0009327577577461489}, 'clinopyroxene': {'FeO1_3': 0.2307167345382464, 'd2VdP2': 2.374018185273369e-11, 'G': -414525.01900662907, 'density': 0.0, 'd2VdT2': 1.1673548968640619e-07, 'H': -333662.83096267685, 'dVdP': -6.788754885889887e-06, 'dVdT': 0.0003318711185508001, 'dCpdT': 0.0026037140624408377, 'S': 59.40221175882192, 'V': 8.018175328562311, 'Cp': 30.717273003359306, 'volume fraction': 3288.2770936757483, 'composition': [12.836525819795538, 0.48606807633950555, 1.4879476430001068, 0.46070731824954514, 0.0, 1.9768695795155578, 0.0, 3.7325016792389096, 0.0, 0.0, 5.308896141286399, 0.07646600856190303, 0.0, 0.0, 0.0, 0.0, 0.0, 0.0, 0.0], 'd2VdTdP': -1.2243109626641657e-12}, 'olivine': {'FeO1_3': 0.11357459994013613, 'd2VdP2': 7.111109404834573e-12, 'G': -193881.0750204724, 'density': 0.0, 'd2VdT2': 6.495755549634836e-08, 'H': -151516.8781120447, 'dVdP': -2.92664672214817e-06, 'dVdT': 0.00017729906104133273, 'dCpdT': 0.0016765285502927112, 'S': 31.12118354228805, 'V': 3.94709580565935, 'Cp': 16.009264275322046, 'volume fraction': 3448.446450245778, 'composition': [5.117609687984486, 0.0, 0.0, 0.0, 0.0, 3.6753242245782425, 0.0, 4.76708656793377, 0.0, 0.0, 0.05132803930948509, 0.0, 0.0, 0.0, 0.0, 0.0, 0.0, 0.0, 0.0], 'd2VdTdP': 7.843452976115897e-14}, 'feldspar': {'FeO1_3': 0.49738920312045515, 'd2VdP2': 1.2797392972477313e-10, 'G': -784012.1809578222, 'density': 0.0, 'd2VdT2': 1.3071166830227856e-07, 'H': -635945.4083597839, 'dVdP': -2.548362019408906e-05, 'dVdT': 0.0004167385777187598, 'dCpdT': 0.005795519046845372, 'S': 108.7714046957676, 'V': 17.285932228260524, 'Cp': 55.98759213174353, 'volume fraction': 2650.340183878062, 'composition': [23.797594015141648, 0.0, 14.088141653636498, 0.0, 0.0, 0.0, 0.0, 0.0, 0.0, 0.0, 6.070017885800012, 1.8499327736253037, 0.007914472148247916, 0.0, 0.0, 0.0, 0.0, 0.0, 0.0], 'd2VdTdP': 0.0}, 'system variables': {'pressure': 1000.0, 'enthalpy': -1290008.5359476544, 'composition': [48.68, 1.01, 17.64, 0.89, 0.0425, 7.59, 0.0, 9.1, 0.0, 0.0, 12.45, 2.65, 0.03, 0.08, 0.2, 0.0, 0.0, 0.0, 0.0], 'temperature': 1361.2656103153147}}\n"
     ]
    }
   ],
   "source": [
    "print melt.status\n",
    "print melt.properties"
   ]
  }
 ],
 "metadata": {
  "anaconda-cloud": {},
  "kernelspec": {
   "display_name": "Python [Root]",
   "language": "python",
   "name": "Python [Root]"
  },
  "language_info": {
   "codemirror_mode": {
    "name": "ipython",
    "version": 2
   },
   "file_extension": ".py",
   "mimetype": "text/x-python",
   "name": "python",
   "nbconvert_exporter": "python",
   "pygments_lexer": "ipython2",
   "version": "2.7.11"
  }
 },
 "nbformat": 4,
 "nbformat_minor": 0
}
