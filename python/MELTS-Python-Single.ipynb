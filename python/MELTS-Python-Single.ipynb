{
 "cells": [
  {
   "cell_type": "markdown",
   "metadata": {},
   "source": [
    "# MELTS - python binding workbook\n",
    "## Perform single calculation with pickup"
   ]
  },
  {
   "cell_type": "code",
   "execution_count": 1,
   "metadata": {
    "collapsed": false
   },
   "outputs": [
    {
     "name": "stderr",
     "output_type": "stream",
     "text": [
      "/Users/ghiorso/anaconda/lib/python2.7/site-packages/matplotlib/font_manager.py:273: UserWarning: Matplotlib is building the font cache using fc-list. This may take a moment.\n",
      "  warnings.warn('Matplotlib is building the font cache using fc-list. This may take a moment.')\n"
     ]
    }
   ],
   "source": [
    "import pymelts\n",
    "import matplotlib.pyplot"
   ]
  },
  {
   "cell_type": "markdown",
   "metadata": {},
   "source": [
    "## Create instance of the MELTS engine class"
   ]
  },
  {
   "cell_type": "code",
   "execution_count": 2,
   "metadata": {
    "collapsed": false
   },
   "outputs": [],
   "source": [
    "engine = pymelts.Engine()"
   ]
  },
  {
   "cell_type": "markdown",
   "metadata": {},
   "source": [
    "## Test get oxide and phase names functions"
   ]
  },
  {
   "cell_type": "code",
   "execution_count": 3,
   "metadata": {
    "collapsed": false
   },
   "outputs": [
    {
     "name": "stdout",
     "output_type": "stream",
     "text": [
      "['SiO2', 'TiO2', 'Al2O3', 'Fe2O3', 'Cr2O3', 'FeO', 'MnO', 'MgO', 'NiO', 'CoO', 'CaO', 'Na2O', 'K2O', 'P2O5', 'H2O', 'CO2', 'SO3', 'Cl2O-1', 'F2O-1']\n",
      "['olivine', 'fayalite', 'sphene', 'garnet', 'melilite', 'orthopyroxene', 'clinopyroxene', 'aegirine', 'aenigmatite', 'cummingtonite', 'amphibole', 'hornblende', 'biotite', 'muscovite', 'feldspar', 'quartz', 'tridymite', 'cristobalite', 'nepheline', 'kalsilite', 'leucite', 'corundum', 'sillimanite', 'rutile', 'perovskite', 'spinel', 'rhm-oxide', 'ortho-oxide', 'whitlockite', 'apatite', 'water', 'fluid', 'alloy-solid', 'alloy-liquid', 'lime', 'periclase', 'calcite', 'aragonite', 'magnesite', 'siderite', 'dolomite', 'spurrite', 'tilleyite', 'diamond', 'graphite', 'system', 'liquid']\n"
     ]
    }
   ],
   "source": [
    "print engine.get_oxide_names()\n",
    "print engine.get_phase_names()"
   ]
  },
  {
   "cell_type": "markdown",
   "metadata": {
    "collapsed": true
   },
   "source": [
    "## Perform a MELTS calculation"
   ]
  },
  {
   "cell_type": "code",
   "execution_count": 4,
   "metadata": {
    "collapsed": false
   },
   "outputs": [
    {
     "name": "stdout",
     "output_type": "stream",
     "text": [
      "{'status_msg': 'Successful run.  No errors.', 'iterations': -1}\n",
      "{'status': {'status_msg': 'Successful run.  No errors.', 'composition': [], 'iterations': -1}, 'liquid': {'FeO1_3': 0.2648395054571581, 'd2VdP2': 5.598790692882285e-09, 'G': -385397.0233129477, 'density': 40.742182630288575, 'd2VdT2': 7.024566319108309e-08, 'H': -292058.7007826366, 'dVdP': -8.09157372663553e-05, 'dVdT': 0.0008850452172147395, 'dCpdT': 0.00038407380727033746, 'S': 66.6702303787936, 'V': 9.311699635190237, 'Cp': 35.80706827716748, 'volume fraction': 2676.0655815464315, 'composition': [12.126433948821356, 0.635474491291574, 3.542437190933102, 0.48329149757671536, 0.005929043040684718, 3.1773715261271493, 0.0, 1.3362407481694334, 0.0, 0.0, 2.2426156651838713, 1.0640167876178381, 0.02490800066933094, 0.08000000000000014, 0.2, 0.0, 0.0, 0.0, 0.0], 'd2VdTdP': -2.249376953253881e-08}, 'spinel': {'FeO1_3': 0.0018435996465973722, 'd2VdP2': 5.129914681969645e-14, 'G': -2948.190418003923, 'density': 0.0, 'd2VdT2': 6.853863821146705e-10, 'H': -2072.8206223528414, 'dVdP': -2.200908792958484e-08, 'dVdT': 1.7992905936378242e-06, 'dCpdT': 2.922804977294697e-05, 'S': 0.6252641397507728, 'V': 0.06482056416403721, 'Cp': 0.283982435188438, 'volume fraction': 4420.182344520409, 'composition': [0.0, 0.04460274565386729, 0.03145006998113868, 0.052543929548663645, 0.03657095695931528, 0.09330036878226687, 0.0, 0.02805064235447787, 0.0, 0.0, 0.0, 0.0, 0.0, 0.0, 0.0, 0.0, 0.0, 0.0, 0.0], 'd2VdTdP': 0.0}, 'system': {'FeO1_3': 1.0, 'd2VdP2': 0.0008182543224534067, 'G': -1623427.826067052, 'density': 0.0, 'd2VdT2': 0.0008183189693259049, 'H': -1281008.5359476511, 'dVdP': 0.0007373329863963584, 'dVdT': 0.0017032939408774535, 'dCpdT': 0.008961268311677484, 'S': 244.5852072281435, 'V': 35.159783353003384, 'Cp': 126.75385867384716, 'volume fraction': 2854.468669285101, 'composition': [48.68, 1.01, 17.64, 0.89, 0.0425, 7.59, 0.0, 9.1, 0.0, 0.0, 12.45, 2.65, 0.03, 0.08, 0.2, 0.0, 0.0, 0.0, 0.0], 'd2VdTdP': 0.0008182262298931812}, 'clinopyroxene': {'FeO1_3': 0.19293930694234349, 'd2VdP2': 1.9916019907047476e-11, 'G': -352745.8687585379, 'density': 0.0, 'd2VdT2': 9.934429606885402e-08, 'H': -281697.3535419177, 'dVdP': -5.71233212240032e-06, 'dVdT': 0.00028490835524864924, 'dCpdT': 0.0021206333196689174, 'S': 50.74893944044298, 'V': 6.783704232371418, 'Cp': 26.02996236170972, 'volume fraction': 3267.4007061085936, 'composition': [10.944570211826672, 0.32992276305455936, 1.2002453318596562, 0.35416457287462155, 0.0, 1.5149818821424534, 0.0, 3.297632545249664, 0.0, 0.0, 4.465439277516562, 0.05812341435803204, 0.0, 0.0, 0.0, 0.0, 0.0, 0.0, 0.0], 'd2VdTdP': -9.655782692031431e-13}, 'olivine': {'FeO1_3': 0.09887322226074095, 'd2VdP2': 6.628975874585594e-12, 'G': -173643.1795786285, 'density': 0.0, 'd2VdT2': 5.733590302938296e-08, 'H': -135092.63653117995, 'dVdP': -2.5811779479249846e-06, 'dVdT': 0.00015871331406629367, 'dCpdT': 0.001416972076921783, 'S': 27.536102176748965, 'V': 3.4763610741010034, 'Cp': 14.121078371034933, 'volume fraction': 3394.803258108416, 'composition': [4.508049556451931, 0.0, 0.0, 0.0, 0.0, 2.8043462229481313, 0.0, 4.438076064226423, 0.0, 0.0, 0.05109005709287116, 0.0, 0.0, 0.0, 0.0, 0.0, 0.0, 0.0, 0.0], 'd2VdTdP': 7.636279580186806e-14}, 'feldspar': {'FeO1_3': 0.44150436569316015, 'd2VdP2': 1.1339250924222874e-10, 'G': -708693.5639989342, 'density': 0.0, 'd2VdT2': 1.1815621675211175e-07, 'H': -570087.0244695641, 'dVdP': -2.2581746103450116e-05, 'dVdT': 0.000372827763754133, 'dCpdT': 0.005010361058043498, 'S': 99.00467109240716, 'V': 15.523197847176691, 'Cp': 50.51176722874659, 'volume fraction': 2653.4880823656626, 'composition': [21.10094628290005, 0.0, 12.865867407226112, 0.0, 0.0, 0.0, 0.0, 0.0, 0.0, 0.0, 5.690855000206695, 1.5278597980241306, 0.0050919993306726506, 0.0, 0.0, 0.0, 0.0, 0.0, 0.0], 'd2VdTdP': 0.0}, 'system variables': {'pressure': 1000.0, 'enthalpy': -1281008.5359476511, 'composition': [48.68, 1.01, 17.64, 0.89, 0.0425, 7.59, 0.0, 9.1, 0.0, 0.0, 12.45, 2.65, 0.03, 0.08, 0.2, 0.0, 0.0, 0.0, 0.0], 'temperature': 1400.0}}\n",
      "MELTS_v1.0.2\n"
     ]
    }
   ],
   "source": [
    "melt = pymelts.Melt(\n",
    "        composition=pymelts.Composition(\n",
    "            SiO2=48.68, TiO2=1.01, Al2O3=17.64, Fe2O3=0.89, \n",
    "            Cr2O3=0.0425, FeO=7.59, MnO=0.0, MgO=9.10, \n",
    "            CaO=12.45, Na2O=2.65, K2O=0.03, P2O5=0.08, H2O=0.2),\n",
    "        temperature=1400., \n",
    "        pressure=1000.,\n",
    "        mode='ptx',\n",
    "        calculationString='MELTS_v1.0.2',\n",
    "        solve=True)\n",
    "print melt.status\n",
    "print melt.properties\n",
    "print melt.calculationDatabase"
   ]
  },
  {
   "cell_type": "code",
   "execution_count": 5,
   "metadata": {
    "collapsed": false
   },
   "outputs": [
    {
     "name": "stdout",
     "output_type": "stream",
     "text": [
      "\tSiO2\t= 48.663954\tTiO2\t= 2.550189\tAl2O3\t= 14.215968\n",
      "\tFe2O3\t= 1.939472\tCr2O3\t= 0.023794\tFeO\t= 12.750943\n",
      "\tMnO\t= 0.000000\tMgO\t= 5.362397\tNiO\t= 0.000000\n",
      "\tCoO\t= 0.000000\tCaO\t= 8.999723\tNa2O\t= 4.269950\n",
      "\tK2O\t= 0.099957\tP2O5\t= 0.321044\tH2O\t= 0.802609\n",
      "\tCO2\t= 0.000000\tSO3\t= 0.000000\tCl2O-1\t= 0.000000\n",
      "\tF2O-1\t= 0.000000\n",
      "\n"
     ]
    }
   ],
   "source": [
    "melt.properties['liquid']['composition'].normalize()\n",
    "print melt.properties['liquid']['composition'].pretty_print()"
   ]
  },
  {
   "cell_type": "markdown",
   "metadata": {},
   "source": [
    "## Generate a continuation call with another enthalpy"
   ]
  },
  {
   "cell_type": "code",
   "execution_count": 6,
   "metadata": {
    "collapsed": false
   },
   "outputs": [
    {
     "name": "stdout",
     "output_type": "stream",
     "text": [
      "System: P =      1000 kPa, H = -1.282e+06 J, T =      1396 deg C\n",
      "System: P =      1000 kPa, H = -1.283e+06 J, T =      1392 deg C\n",
      "System: P =      1000 kPa, H = -1.284e+06 J, T =      1388 deg C\n",
      "System: P =      1000 kPa, H = -1.285e+06 J, T =      1384 deg C\n",
      "System: P =      1000 kPa, H = -1.286e+06 J, T =      1380 deg C\n",
      "System: P =      1000 kPa, H = -1.287e+06 J, T =      1376 deg C\n",
      "System: P =      1000 kPa, H = -1.288e+06 J, T =      1371 deg C\n",
      "System: P =      1000 kPa, H = -1.289e+06 J, T =      1366 deg C\n",
      "System: P =      1000 kPa, H = -1.29e+06 J, T =      1361 deg C\n",
      "\n"
     ]
    }
   ],
   "source": [
    "melt.set_mode('phx')\n",
    "results_string = (\"System: P = {0.pressure:9.4g} kPa, \"\n",
    "        + \"H = {0.enthalpy:9.4g} J, \"\n",
    "        + \"T = {0.temperature:9.4g} deg C\\n\")\n",
    "output = \"\"\n",
    "for i in range(1, 10):\n",
    "    melt.enthalpy -= 1000.\n",
    "    melt.solve()\n",
    "    output += results_string.format(melt)\n",
    "\n",
    "print output"
   ]
  },
  {
   "cell_type": "code",
   "execution_count": 7,
   "metadata": {
    "collapsed": false
   },
   "outputs": [
    {
     "name": "stdout",
     "output_type": "stream",
     "text": [
      "{'status_msg': 'Successful run.  No errors.', 'iterations': -1}\n",
      "{'status': {'status_msg': 'Successful run.  No errors.', 'composition': [], 'iterations': -1}, 'liquid': {'FeO1_3': 0.15056407096681956, 'd2VdP2': 4.924512714846404e-09, 'G': -210021.47229466063, 'density': 86.80557758703968, 'd2VdT2': 7.538123389197316e-08, 'H': -160768.19413108673, 'dVdP': -5.848271374963004e-05, 'dVdT': 0.0005626941459493523, 'dCpdT': 0.00031838812526612865, 'S': 36.181974913892475, 'V': 5.232603181603796, 'Cp': 19.095596836261493, 'volume fraction': 2553.657422764654, 'composition': [6.928270477081265, 0.24793938687050493, 1.9906016008166059, 0.20417329414363417, 0.00046571812827092573, 1.4424991793000632, 0.0, 0.5028816194746469, 0.0, 0.0, 1.0197579336047624, 0.7236012178129679, 0.02208552785175725, 0.0800000000000002, 0.2, 0.0, 0.0, 0.0, 0.0], 'd2VdTdP': -2.1240542633823324e-08}, 'spinel': {'FeO1_3': 0.007755391434399316, 'd2VdP2': 2.19786236316915e-13, 'G': -11646.518734713021, 'density': 0.0, 'd2VdT2': 2.7106134461997125e-09, 'H': -8115.224382127409, 'dVdP': -8.336675177177332e-08, 'dVdT': 6.870240977884776e-06, 'dCpdT': 0.00011957577810750164, 'S': 2.594125882433482, 'V': 0.26952569516510794, 'Cp': 1.1659096597400107, 'volume fraction': 4486.742750203528, 'composition': [0.0, 0.2759925367899614, 0.07330910254753265, 0.2251193876068104, 0.04203428187172907, 0.4953070166066174, 0.0, 0.09753013335296332, 0.0, 0.0, 0.0, 0.0, 0.0, 0.0, 0.0, 0.0, 0.0, 0.0, 0.0], 'd2VdTdP': 0.0}, 'system': {'FeO1_3': 1.0, 'd2VdP2': 0.0009327839228014367, 'G': -1614086.2660142174, 'density': 0.0, 'd2VdT2': 0.0009328543795226139, 'H': -1290008.535947651, 'dVdP': 0.0008742962845390918, 'dVdT': 0.0014954731442380742, 'dCpdT': 0.010513725562951772, 'S': 238.0709007931927, 'V': 34.75333223924934, 'Cp': 122.97563590642035, 'volume fraction': 2887.8525750878566, 'composition': [48.68, 1.01, 17.64, 0.89, 0.0425, 7.59, 0.0, 9.1, 0.0, 0.0, 12.45, 2.65, 0.03, 0.08, 0.2, 0.0, 0.0, 0.0, 0.0], 'd2VdTdP': 0.0009327577577460881}, 'clinopyroxene': {'FeO1_3': 0.23071673453821573, 'd2VdP2': 2.374018185273143e-11, 'G': -414525.01900657895, 'density': 0.0, 'd2VdT2': 1.1673548968639097e-07, 'H': -333662.8309626353, 'dVdP': -6.788754885889031e-06, 'dVdT': 0.0003318711185507591, 'dCpdT': 0.002603714062440434, 'S': 59.40221175881473, 'V': 8.018175328561304, 'Cp': 30.717273003355437, 'volume fraction': 3288.277093675747, 'composition': [12.836525819793783, 0.4860680763395341, 1.4879476429999785, 0.4607073182495559, 0.0, 1.9768695795150915, 0.0, 3.7325016792383887, 0.0, 0.0, 5.308896141285916, 0.07646600856189006, 0.0, 0.0, 0.0, 0.0, 0.0, 0.0, 0.0], 'd2VdTdP': -1.2243109626635425e-12}, 'olivine': {'FeO1_3': 0.11357459994013917, 'd2VdP2': 7.111109404834939e-12, 'G': -193881.0750204801, 'density': 0.0, 'd2VdT2': 6.495755549635058e-08, 'H': -151516.87811205027, 'dVdP': -2.9266467221482714e-06, 'dVdT': 0.00017729906104134002, 'dCpdT': 0.0016765285502927346, 'S': 31.121183542289224, 'V': 3.947095805659485, 'Cp': 16.009264275322607, 'volume fraction': 3448.4464502457618, 'composition': [5.117609687984659, 0.0, 0.0, 0.0, 0.0, 3.675324224578227, 0.0, 4.767086567934004, 0.0, 0.0, 0.05132803930949491, 0.0, 0.0, 0.0, 0.0, 0.0, 0.0, 0.0, 0.0], 'd2VdTdP': 7.84345297611825e-14}, 'feldspar': {'FeO1_3': 0.4973892031204261, 'd2VdP2': 1.2797392972476587e-10, 'G': -784012.1809577846, 'density': 0.0, 'd2VdT2': 1.3071166830227234e-07, 'H': -635945.4083597511, 'dVdP': -2.548362019408761e-05, 'dVdT': 0.0004167385777187379, 'dCpdT': 0.005795519046844973, 'S': 108.77140469576278, 'V': 17.285932228259643, 'Cp': 55.98759213174081, 'volume fraction': 2650.3401838780633, 'composition': [23.797594015140305, 0.0, 14.08814165363589, 0.0, 0.0, 0.0, 0.0, 0.0, 0.0, 0.0, 6.0700178857998255, 1.8499327736251425, 0.007914472148246322, 0.0, 0.0, 0.0, 0.0, 0.0, 0.0], 'd2VdTdP': 0.0}, 'system variables': {'pressure': 1000.0, 'enthalpy': -1290008.535947651, 'composition': [48.68, 1.01, 17.64, 0.89, 0.0425, 7.59, 0.0, 9.1, 0.0, 0.0, 12.45, 2.65, 0.03, 0.08, 0.2, 0.0, 0.0, 0.0, 0.0], 'temperature': 1361.2656103153324}}\n"
     ]
    }
   ],
   "source": [
    "print melt.status\n",
    "print melt.properties"
   ]
  },
  {
   "cell_type": "code",
   "execution_count": null,
   "metadata": {
    "collapsed": true
   },
   "outputs": [],
   "source": []
  }
 ],
 "metadata": {
  "anaconda-cloud": {},
  "kernelspec": {
   "display_name": "Python [default]",
   "language": "python",
   "name": "python2"
  },
  "language_info": {
   "codemirror_mode": {
    "name": "ipython",
    "version": 2
   },
   "file_extension": ".py",
   "mimetype": "text/x-python",
   "name": "python",
   "nbconvert_exporter": "python",
   "pygments_lexer": "ipython2",
   "version": "2.7.12"
  }
 },
 "nbformat": 4,
 "nbformat_minor": 0
}
