{
 "cells": [
  {
   "cell_type": "markdown",
   "metadata": {},
   "source": [
    "# Pyroxene Geothermometer\n",
    "### Using opx and cpx solution models from Sack and Ghiorso (1994a, b, c):\n",
    "\n",
    "Sack RO, Ghiorso MS (1994a) Thermodynamics of multicomponent pyroxenes: I. Formulation of a general model. Contrib Mineral Petrol  116, 277-286  \n",
    "Sack RO, Ghiorso MS (1994b) Thermodynamics of multicomponent pyroxenes: II. Phase relations in the quadrilateral. Contrib Mineral Petrol  116, 287-300  \n",
    "Sack RO, Ghiorso MS (1994c) Thermodynamics of multicomponent pyroxenes: III. Calibration of Fe<sup>2+</sup>(Mg)<sub>-1</sub>, TiAl(MgSi)<sub>-1</sub>, TiFe<sup>3+</sup>(MgSi)<sub>-1</sub>, AlFe<sup>3+</sup>(MgSi)<sub>-1</sub>, NaAl(CaMg)<sub>-1</sub>, Al<sub>2</sub>(MgSi)<sub>-1</sub> and Ca(Mg)<sub>-1</sub> exchange reactions between pyroxenes and silicate melts. Contrib Mineral Petrol 118, 271-296"
   ]
  },
  {
   "cell_type": "code",
   "execution_count": 1,
   "metadata": {
    "collapsed": false
   },
   "outputs": [
    {
     "name": "stderr",
     "output_type": "stream",
     "text": [
      "/Users/ghiorso/anaconda/lib/python2.7/site-packages/matplotlib/font_manager.py:273: UserWarning: Matplotlib is building the font cache using fc-list. This may take a moment.\n",
      "  warnings.warn('Matplotlib is building the font cache using fc-list. This may take a moment.')\n"
     ]
    }
   ],
   "source": [
    "import pymelts"
   ]
  },
  {
   "cell_type": "markdown",
   "metadata": {},
   "source": [
    "## Reference pyroxene compositions\n",
    "### Test compositions from the Bishop Tuff (Hildreth, 1977)\n",
    "\n",
    "| Phase | SiO<sub>2</sub> | TiO<sub>2<sub> | Al<sub>2</sub>O<sub>3<sub> | FeO | MnO | MgO | CaO | Na<sub>2</sub>O |\n",
    "|-------|------|------|-------|-----|-----|-----|-----|------|\n",
    "| cpx | 51.94615385 | 0.711153846 | 0.150769231 | 12.80846154 | 0.556923077 | 12.69576923 | 20.63307692 | 0.381153846 |\n",
    "| $\\sigma$ | 0.325245469 | 0.159808058 | 0.025443754 | 0.305754049 | 0.038860698 | 0.250984829 | 0.200434912 | 0.015830837 |\n",
    "| opx | 50.92925926 | 0.425555556 | 0.128888889 | 28.49518519 | 1.103703704 | 18.33037037 | 0.97962963 | 0.025185185 |\n",
    "| $\\sigma$ | 0.460325353 | 0.107643762 | 0.023912233 | 0.493233993 | 0.045161943 | 0.257241005 | 0.022951702 | 0.007000203 |\n",
    "\n",
    "Values in wt%. Averages and standard deviations computed from analyzed pyroxenes found in the late eruptive units."
   ]
  },
  {
   "cell_type": "markdown",
   "metadata": {},
   "source": [
    "## Instantiate a clinopyroxene with the specified composition\n",
    "As an illustration of use, compute and print peroperties at 800 °C and 200 MPa.  Properties are ouput as a Python dictionary.  \n",
    "Output the number of components, their names, and their formulas"
   ]
  },
  {
   "cell_type": "code",
   "execution_count": 24,
   "metadata": {
    "collapsed": false
   },
   "outputs": [
    {
     "name": "stdout",
     "output_type": "stream",
     "text": [
      "{'diopside': -3466683.647678129, 'd2VdP2': 8.660520005255035e-11, 'G': -1455376.2242066327, 'alumino-buffonite': -3575864.1425711145, 'dCpdT': 0.01418600229353653, 'H': -1245788.8887145256, 'dVdP': -2.61520085563217e-05, 'buffonite': -3151406.3917134106, 'dVdT': 0.001185948903154629, 'd2VdT2': 4.672046672971443e-07, 'S': 195.3010627518116, 'jadeite': -3336129.216386373, 'V': 29.87634685163099, 'clinoenstatite': -3352376.7213651803, 'Cp': 111.32739407242175, 'hedenbergite': -3150901.601282353, 'essenite': -3221797.554594667, 'd2VdTdP': -1.0337724009476098e-11}\n",
      "7\n",
      "['diopside', 'clinoenstatite', 'hedenbergite', 'alumino-buffonite', 'buffonite', 'essenite', 'jadeite']\n",
      "['CaMgSi2O6', 'Mg2Si2O6', 'CaFeSi2O6', 'CaTi0.5Mg0.5AlSiO6', 'CaTi0.5Mg0.5FeSiO6', 'CaFeAlSiO6', 'NaAlSi2O6']\n"
     ]
    }
   ],
   "source": [
    "cpx = pymelts.Phase('clinopyroxene', composition=pymelts.Composition(\n",
    "        SiO2=51.94615385, TiO2=0.711153846, Al2O3=0.150769231, FeO=12.80846154, MnO=0.556923077, \n",
    "        MgO=12.69576923, CaO=20.63307692, Na2O=0.381153846))\n",
    "cpxProperties = cpx.get_properties(temperature=1073.15, pressure=2000.0)\n",
    "print cpxProperties\n",
    "print cpx.get_phase_component_number('clinopyroxene')\n",
    "print cpx.get_phase_component_names('clinopyroxene')\n",
    "print cpx.get_phase_component_formulas('clinopyroxene')"
   ]
  },
  {
   "cell_type": "markdown",
   "metadata": {},
   "source": [
    "## Instantiate a orthopyroxene with the specified composition\n",
    "As an illustration of use, compute and print peroperties at 800 °C and 200 MPa. Properties are ouput as a Python dictionary.  \n",
    "Output the number of components, their names, and their formulas"
   ]
  },
  {
   "cell_type": "code",
   "execution_count": 26,
   "metadata": {
    "collapsed": false
   },
   "outputs": [
    {
     "name": "stdout",
     "output_type": "stream",
     "text": [
      "{'diopside': -3470369.817112122, 'd2VdP2': 2.455026565845343e-11, 'G': -1359224.8519670877, 'alumino-buffonite': -3556103.1914557903, 'dCpdT': 0.013130336453479179, 'H': -1142368.179065694, 'dVdP': -2.629941912215467e-05, 'buffonite': -3144517.998694186, 'dVdT': 0.001283697818957884, 'd2VdT2': 1.4548554585267016e-07, 'S': 202.07489437766714, 'jadeite': -3582560.723352499, 'V': 29.170695015433775, 'clinoenstatite': -3356457.0239709564, 'Cp': 116.37171139989373, 'hedenbergite': -3153990.5513665075, 'essenite': -3487657.705297902, 'd2VdTdP': 8.994643265846481e-10}\n",
      "7\n",
      "['diopside', 'clinoenstatite', 'hedenbergite', 'alumino-buffonite', 'buffonite', 'essenite', 'jadeite']\n",
      "['CaMgSi2O6', 'Mg2Si2O6', 'CaFeSi2O6', 'CaTi0.5Mg0.5AlSiO6', 'CaTi0.5Mg0.5FeSiO6', 'CaFeAlSiO6', 'NaAlSi2O6']\n"
     ]
    }
   ],
   "source": [
    "opx = pymelts.Phase('orthopyroxene', composition=pymelts.Composition(\n",
    "        SiO2=50.92925926, TiO2=0.425555556, Al2O3=0.128888889, FeO=28.49518519, MnO=1.103703704, \n",
    "        MgO=18.33037037, CaO=0.97962963, Na2O=0.025185185))\n",
    "opxProperties = opx.get_properties(temperature=1073.15, pressure=2000.0)\n",
    "print opxProperties\n",
    "print opx.get_phase_component_number('orthopyroxene')\n",
    "print opx.get_phase_component_names('orthopyroxene')\n",
    "print opx.get_phase_component_formulas('orthopyroxene')"
   ]
  },
  {
   "cell_type": "markdown",
   "metadata": {},
   "source": [
    "## Import minimizer routine from SciPy\n",
    "We will use the routine BrentQ to find the temperature that zeros the Gibbs free energy of a reaction"
   ]
  },
  {
   "cell_type": "code",
   "execution_count": 12,
   "metadata": {
    "collapsed": true
   },
   "outputs": [],
   "source": [
    "from scipy.optimize import brentq"
   ]
  },
  {
   "cell_type": "markdown",
   "metadata": {},
   "source": [
    "## Define an Fe-Mg exchange reaction between opx and cpx\n",
    "### CaMgSi<sub>2</sub>O<sub>6</sub> [cpx] + CaFeSi<sub>2</sub>O<sub>6</sub> [opx]  = CaMgSi<sub>2</sub>O<sub>6</sub> [opx] +CaFeSi<sub>2</sub>O<sub>6</sub> [cpx] \n",
    "\n",
    "Note that the get_properties function for the class instance returns a python dictionary. The chemical potential of the endmember components are retrieved from this dictionary by using the name of the component as a key.  Otherwise, the other thermodynamic properties are extensive (mass dependent) quantities and pertain to the phase as a whole."
   ]
  },
  {
   "cell_type": "code",
   "execution_count": 13,
   "metadata": {
    "collapsed": true
   },
   "outputs": [],
   "source": [
    "def deltaG(t, p):\n",
    "    cpxProperties = cpx.get_properties(temperature=t, pressure=p)\n",
    "    opxProperties = opx.get_properties(temperature=t, pressure=p)\n",
    "    return opxProperties['diopside'] + cpxProperties['hedenbergite'] - cpxProperties['diopside'] - opxProperties['hedenbergite']"
   ]
  },
  {
   "cell_type": "markdown",
   "metadata": {},
   "source": [
    "### Solve for temperature (in K) that zeros the exchange free energy\n",
    "\n",
    "Upper and lower bounds on T are specified by Tmin and Tmax (both in K).  The pressure is specified in bars."
   ]
  },
  {
   "cell_type": "code",
   "execution_count": 22,
   "metadata": {
    "collapsed": false
   },
   "outputs": [
    {
     "name": "stdout",
     "output_type": "stream",
     "text": [
      "Equilibrium T (°C) =  695.294143977\n"
     ]
    }
   ],
   "source": [
    "Tmin = 500.0\n",
    "Tmax = 1500.0\n",
    "p = 2000.0\n",
    "print 'Equilibrium T (°C) = ', brentq(deltaG, Tmin, Tmax, args=(p)) - 273.15"
   ]
  }
 ],
 "metadata": {
  "kernelspec": {
   "display_name": "Python [default]",
   "language": "python",
   "name": "python2"
  },
  "language_info": {
   "codemirror_mode": {
    "name": "ipython",
    "version": 2
   },
   "file_extension": ".py",
   "mimetype": "text/x-python",
   "name": "python",
   "nbconvert_exporter": "python",
   "pygments_lexer": "ipython2",
   "version": "2.7.12"
  }
 },
 "nbformat": 4,
 "nbformat_minor": 1
}
