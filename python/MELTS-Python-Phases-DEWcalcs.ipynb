{
 "cells": [
  {
   "cell_type": "markdown",
   "metadata": {},
   "source": [
    "# Phase property calculator \n",
    "## Solution models from the MELTS data/model collection"
   ]
  },
  {
   "cell_type": "code",
   "execution_count": 1,
   "metadata": {
    "collapsed": false
   },
   "outputs": [
    {
     "name": "stderr",
     "output_type": "stream",
     "text": [
      "/Users/ghiorso/anaconda/lib/python2.7/site-packages/matplotlib/font_manager.py:273: UserWarning: Matplotlib is building the font cache using fc-list. This may take a moment.\n",
      "  warnings.warn('Matplotlib is building the font cache using fc-list. This may take a moment.')\n"
     ]
    }
   ],
   "source": [
    "import pymelts"
   ]
  },
  {
   "cell_type": "markdown",
   "metadata": {},
   "source": [
    "### Create instance of the MELTS engine class\n",
    "This will generate lists of oxide composition variables and a list of permitted phase names"
   ]
  },
  {
   "cell_type": "code",
   "execution_count": 2,
   "metadata": {
    "collapsed": false
   },
   "outputs": [
    {
     "name": "stdout",
     "output_type": "stream",
     "text": [
      "['SiO2', 'TiO2', 'Al2O3', 'Fe2O3', 'Cr2O3', 'FeO', 'MnO', 'MgO', 'NiO', 'CoO', 'CaO', 'Na2O', 'K2O', 'P2O5', 'H2O', 'CO2', 'SO3', 'Cl2O-1', 'F2O-1']\n",
      "['olivine', 'fayalite', 'sphene', 'garnet', 'melilite', 'orthopyroxene', 'clinopyroxene', 'aegirine', 'aenigmatite', 'cummingtonite', 'amphibole', 'hornblende', 'biotite', 'muscovite', 'feldspar', 'quartz', 'tridymite', 'cristobalite', 'nepheline', 'kalsilite', 'leucite', 'corundum', 'sillimanite', 'rutile', 'perovskite', 'spinel', 'rhm-oxide', 'ortho-oxide', 'whitlockite', 'apatite', 'water', 'fluid', 'alloy-solid', 'alloy-liquid', 'lime', 'periclase', 'calcite', 'aragonite', 'magnesite', 'siderite', 'dolomite', 'spurrite', 'tilleyite', 'diamond', 'graphite', 'system', 'liquid']\n"
     ]
    }
   ],
   "source": [
    "engine = pymelts.Engine()\n",
    "print engine.get_oxide_names()\n",
    "print engine.get_phase_names()"
   ]
  },
  {
   "cell_type": "markdown",
   "metadata": {},
   "source": [
    "### Instantiate an instance of a phase class for liquid"
   ]
  },
  {
   "cell_type": "code",
   "execution_count": 3,
   "metadata": {
    "collapsed": false
   },
   "outputs": [],
   "source": [
    "phase = pymelts.Phase('liquid', composition=pymelts.Composition(\n",
    "            SiO2=77.80, TiO2=0.09, Al2O3=12.00, Fe2O3=0.20, \n",
    "            FeO=0.75, MgO=0.04, \n",
    "            CaO=0.45, Na2O=3.70, K2O=5.36, H2O=3.74))"
   ]
  },
  {
   "cell_type": "markdown",
   "metadata": {},
   "source": [
    "### Calculate proterties of the liquid phase at specified T (K) and P (bars)"
   ]
  },
  {
   "cell_type": "code",
   "execution_count": 4,
   "metadata": {
    "collapsed": false
   },
   "outputs": [
    {
     "name": "stdout",
     "output_type": "stream",
     "text": [
      "{'Ca3(PO4)2': -4494886.532146292, 'd2VdP2': 6.229594508064293e-09, 'd2VdT2': 0.0, 'CaSiO3': -1790244.3675772473, 'Fe2SiO4': -1715262.67430082, 'NiSi0.5O2': -781336.1630719538, 'Al2O3': -1792984.6481333957, 'TiO2': -1041410.5397858727, 'Fe2O3': -996881.1442969294, 'Na2SiO3': -1842833.2706801915, 'KAlSiO4': -2347786.6495870957, 'CoSi0.5O2': -809311.5231061564, 'Mg2SiO4': -2366660.683343575, 'G': -1604152.30024255, 'H': -1378083.5032467833, 'dVdP': -0.00036372332229329333, 'SiO2': -982703.2021689756, 'dVdT': 0.0016157404681727944, 'S': 220.9537184144718, 'F2O-1': -1210.137806215727, 'V': 42.36104385944394, 'Cl2O-1': -1210.137806215727, 'd2VdTdP': 7.425728354792867e-08, 'MgCr2O4': -1945904.8283778757, 'CO2': -1210.137806215727, 'dCpdT': 0.0, 'SO3': -1210.137806215727, 'H2O': -12516.8283752477, 'MnSi0.5O2': -970960.3314775353, 'Cp': 140.48963539146956}\n",
      "19\n",
      "['SiO2', 'TiO2', 'Al2O3', 'Fe2O3', 'MgCr2O4', 'Fe2SiO4', 'MnSi0.5O2', 'Mg2SiO4', 'NiSi0.5O2', 'CoSi0.5O2', 'CaSiO3', 'Na2SiO3', 'KAlSiO4', 'Ca3(PO4)2', 'CO2', 'SO3', 'Cl2O-1', 'F2O-1', 'H2O']\n"
     ]
    }
   ],
   "source": [
    "results = phase.get_properties(temperature=750.0+273.15, pressure=1500.0)\n",
    "print results\n",
    "print phase.get_phase_component_number('liquid')\n",
    "print phase.get_phase_component_names('liquid')"
   ]
  },
  {
   "cell_type": "code",
   "execution_count": 11,
   "metadata": {
    "collapsed": false
   },
   "outputs": [
    {
     "name": "stdout",
     "output_type": "stream",
     "text": [
      "SiO2 aq -982703.202169\n",
      "HAlO2 aq -902750.738254\n",
      "Ca(OH)2 aq -820057.993784\n",
      "NaOH aq -436323.448443\n",
      "KOH aq -474849.537539\n"
     ]
    }
   ],
   "source": [
    "print 'SiO2 aq', results['SiO2']\n",
    "print 'HAlO2 aq', (results['Al2O3']+results['H2O'])/2\n",
    "print 'Ca(OH)2 aq', (results['CaSiO3']+results['H2O']-results['SiO2'])\n",
    "print 'NaOH aq', (results['Na2SiO3']+results['H2O']-results['SiO2'])/2\n",
    "print 'KOH aq', (results['KAlSiO4'] + results['H2O']/2 - results['SiO2'] - results['Al2O3']/2)"
   ]
  },
  {
   "cell_type": "code",
   "execution_count": null,
   "metadata": {
    "collapsed": true
   },
   "outputs": [],
   "source": []
  }
 ],
 "metadata": {
  "anaconda-cloud": {},
  "kernelspec": {
   "display_name": "Python [default]",
   "language": "python",
   "name": "python2"
  },
  "language_info": {
   "codemirror_mode": {
    "name": "ipython",
    "version": 2
   },
   "file_extension": ".py",
   "mimetype": "text/x-python",
   "name": "python",
   "nbconvert_exporter": "python",
   "pygments_lexer": "ipython2",
   "version": "2.7.12"
  }
 },
 "nbformat": 4,
 "nbformat_minor": 1
}
