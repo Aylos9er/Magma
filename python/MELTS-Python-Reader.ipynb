{
 "cells": [
  {
   "cell_type": "markdown",
   "metadata": {},
   "source": [
    "# Read in a MELTS confguration file and process output files"
   ]
  },
  {
   "cell_type": "code",
   "execution_count": null,
   "metadata": {
    "collapsed": false
   },
   "outputs": [],
   "source": [
    "import pymelts\n",
    "from cycler import cycler\n",
    "import matplotlib.pyplot as plt\n",
    "from pymelts.utilities import cycle_cmap, celsius"
   ]
  },
  {
   "cell_type": "markdown",
   "metadata": {},
   "source": [
    "## Read files from a folder that contains output from standalone MELTS"
   ]
  },
  {
   "cell_type": "code",
   "execution_count": null,
   "metadata": {
    "collapsed": false
   },
   "outputs": [],
   "source": [
    "from pymelts.readers import Reader\n",
    "reader = Reader('examples/data/komatiite')"
   ]
  },
  {
   "cell_type": "markdown",
   "metadata": {},
   "source": [
    "### Plotting Melts output\n",
    "We can choose some of these variables to plot. In this case the data has been generated for varying temperature from 2000 to 500 degrees Celsius for a komatiitic composition. We’re going to plot the mass, specific heat and density of the phases present in the komatiite as a function of temperature. We begin by specifying some of the variables we want to use and some axes labels for the axes while we’re at it:"
   ]
  },
  {
   "cell_type": "code",
   "execution_count": null,
   "metadata": {
    "collapsed": false
   },
   "outputs": [],
   "source": [
    "x_variable = 'temperature'\n",
    "y_variables = ['mass', 'specific heat', 'density']\n",
    "x_axis_label = r'Temperature ($^{\\circ}\\mathrm{C}$)'\n",
    "y_variable_labels = dict(zip(y_variables, [\n",
    "    r'Mass ($m$, $g$)',\n",
    "    r'Specific heat ($c_{p}$, J kg$^{-1}$ K$^{-1}$)',\n",
    "    r'Density ($\\rho$, kg m$^{-3}$) ']))"
   ]
  },
  {
   "cell_type": "markdown",
   "metadata": {},
   "source": [
    "By defining y_variable_labels as a dictionary we will be able to loop over the y_variables when we plot and pull out the labels as needed (e.g. labels = [y_variable_labels[yvar] for yvar in y_variables]). The phases which we want to loop over are already defined in the Reader.phases attribute.\n",
    "\n",
    "Now that we’ve set up the basics, we just need to set up the matplotlib figure and axes:"
   ]
  },
  {
   "cell_type": "code",
   "execution_count": null,
   "metadata": {
    "collapsed": false
   },
   "outputs": [],
   "source": [
    "nrows, ncols = len(y_variables), 1\n",
    "fig = plt.figure(figsize=(6, 3*nrows))\n",
    "cmap = cycle_cmap('Spectral', len(reader.phases))"
   ]
  },
  {
   "cell_type": "markdown",
   "metadata": {},
   "source": [
    "The cycle_cmap function just generates a color cycle from a colormap, and makes it easier to change the color cycle that matplotlib uses to pick colors for it’s lines (I find the defaults a bit ugly but YMMV).\n",
    "\n",
    "and loop over the y variables, plotting the result for each phase, adding a legend and labelling the y axis using the labels defined above:"
   ]
  },
  {
   "cell_type": "code",
   "execution_count": null,
   "metadata": {
    "collapsed": false
   },
   "outputs": [],
   "source": [
    "for nax, y_variable in enumerate(y_variables):\n",
    "    axs = plt.subplot(nrows, ncols, nax+1)\n",
    "    axs.set_prop_cycle(cycler('color', cmap))\n",
    "    for phase in reader.phases:\n",
    "        axs.plot(\n",
    "            celsius(reader.phase_data[phase][x_variable]),\n",
    "            reader.phase_data[phase][y_variable],\n",
    "            label=phase)\n",
    "        if nax == 0:\n",
    "            axs.legend(loc='best', prop={\"size\":10})\n",
    "        axs.set_ylabel(y_variable_labels[y_variable])"
   ]
  },
  {
   "cell_type": "markdown",
   "metadata": {},
   "source": [
    "You can see that using the Reader instance’s attributes it’s fairly easy to iterate over the data which are available in the in a composition/magma agnostic fashion.\n",
    "\n",
    "Then all we need to do is tidy up the labels and add a title:"
   ]
  },
  {
   "cell_type": "code",
   "execution_count": null,
   "metadata": {
    "collapsed": false
   },
   "outputs": [],
   "source": [
    "axs.set_xlabel(x_axis_label)\n",
    "fig.suptitle('Physical Properties of Phases in Komatiite' +\n",
    "    '\\n(as calculated by MELTS)')\n",
    "plt.show()"
   ]
  },
  {
   "cell_type": "code",
   "execution_count": null,
   "metadata": {
    "collapsed": true
   },
   "outputs": [],
   "source": []
  }
 ],
 "metadata": {
  "kernelspec": {
   "display_name": "Python [Root]",
   "language": "python",
   "name": "Python [Root]"
  },
  "language_info": {
   "codemirror_mode": {
    "name": "ipython",
    "version": 2
   },
   "file_extension": ".py",
   "mimetype": "text/x-python",
   "name": "python",
   "nbconvert_exporter": "python",
   "pygments_lexer": "ipython2",
   "version": "2.7.11"
  }
 },
 "nbformat": 4,
 "nbformat_minor": 0
}
