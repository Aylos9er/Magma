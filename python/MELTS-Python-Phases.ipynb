{
 "cells": [
  {
   "cell_type": "markdown",
   "metadata": {},
   "source": [
    "# Phase property calculator \n",
    "## Solution models from the MELTS data/model collection"
   ]
  },
  {
   "cell_type": "code",
   "execution_count": 6,
   "metadata": {
    "collapsed": false
   },
   "outputs": [],
   "source": [
    "import pymelts"
   ]
  },
  {
   "cell_type": "markdown",
   "metadata": {},
   "source": [
    "### Create instance of the MELTS engine class\n",
    "This will generate lists of oxide composition variables and a list of permitted phase names"
   ]
  },
  {
   "cell_type": "code",
   "execution_count": 7,
   "metadata": {
    "collapsed": false
   },
   "outputs": [
    {
     "name": "stdout",
     "output_type": "stream",
     "text": [
      "['SiO2', 'TiO2', 'Al2O3', 'Fe2O3', 'Cr2O3', 'FeO', 'MnO', 'MgO', 'NiO', 'CoO', 'CaO', 'Na2O', 'K2O', 'P2O5', 'H2O', 'CO2', 'SO3', 'Cl2O-1', 'F2O-1']\n",
      "['olivine', 'fayalite', 'sphene', 'garnet', 'melilite', 'orthopyroxene', 'clinopyroxene', 'aegirine', 'aenigmatite', 'cummingtonite', 'amphibole', 'hornblende', 'biotite', 'muscovite', 'feldspar', 'quartz', 'tridymite', 'cristobalite', 'nepheline', 'kalsilite', 'leucite', 'corundum', 'sillimanite', 'rutile', 'perovskite', 'spinel', 'rhm-oxide', 'ortho-oxide', 'whitlockite', 'apatite', 'water', 'fluid', 'alloy-solid', 'alloy-liquid', 'lime', 'periclase', 'calcite', 'aragonite', 'magnesite', 'siderite', 'dolomite', 'spurrite', 'tilleyite', 'diamond', 'graphite', 'system', 'liquid']\n"
     ]
    }
   ],
   "source": [
    "engine = pymelts.Engine()\n",
    "print engine.get_oxide_names()\n",
    "print engine.get_phase_names()"
   ]
  },
  {
   "cell_type": "markdown",
   "metadata": {},
   "source": [
    "### Instantiate an instance of a phase class for liquid"
   ]
  },
  {
   "cell_type": "code",
   "execution_count": 8,
   "metadata": {
    "collapsed": false
   },
   "outputs": [],
   "source": [
    "phase = pymelts.Phase('liquid', composition=pymelts.Composition(\n",
    "            SiO2=48.68, TiO2=1.01, Al2O3=17.64, Fe2O3=0.89, \n",
    "            Cr2O3=0.0425, FeO=7.59, MnO=0.0, MgO=9.10, \n",
    "            CaO=12.45, Na2O=2.65, K2O=0.03, P2O5=0.08, H2O=0.2))"
   ]
  },
  {
   "cell_type": "markdown",
   "metadata": {},
   "source": [
    "### Calculate proterties of the liquid phase at specified T (K) and P (bars)"
   ]
  },
  {
   "cell_type": "code",
   "execution_count": 9,
   "metadata": {
    "collapsed": false
   },
   "outputs": [
    {
     "name": "stdout",
     "output_type": "stream",
     "text": [
      "{'Ca3(PO4)2': -4619263.902811521, 'd2VdP2': 4.612941773975256e-09, 'd2VdT2': 0.0, 'CaSiO3': -1813280.4180342297, 'Fe2SiO4': -1790226.6770431863, 'NiSi0.5O2': -813524.6709063252, 'Al2O3': -1817150.103196555, 'TiO2': -1072703.3693019398, 'Fe2O3': -1060247.5522454602, 'Na2SiO3': -1887393.9569669086, 'KAlSiO4': -2441967.3789467597, 'CoSi0.5O2': -845807.2298793613, 'Mg2SiO4': -2388134.2195882127, 'G': -1567815.7956373238, 'H': -1283511.1494262996, 'dVdP': -0.00019976972966820813, 'SiO2': -1010921.6198319985, 'dVdT': 0.002474939344852163, 'S': 236.92053850918649, 'F2O-1': -109.94127266400395, 'V': 36.37095745971566, 'Cl2O-1': -109.94127266400395, 'd2VdTdP': 1.2911755195444584e-08, 'MgCr2O4': -2048936.4365794924, 'CO2': -109.94127266400395, 'dCpdT': 0.0, 'SO3': -109.94127266400395, 'H2O': -64985.69736240507, 'MnSi0.5O2': -1006362.3094019154, 'Cp': 153.0814057216461}\n",
      "19\n",
      "['SiO2', 'TiO2', 'Al2O3', 'Fe2O3', 'MgCr2O4', 'Fe2SiO4', 'MnSi0.5O2', 'Mg2SiO4', 'NiSi0.5O2', 'CoSi0.5O2', 'CaSiO3', 'Na2SiO3', 'KAlSiO4', 'Ca3(PO4)2', 'CO2', 'SO3', 'Cl2O-1', 'F2O-1', 'H2O']\n"
     ]
    }
   ],
   "source": [
    "results = phase.get_properties(temperature=1200.0, pressure=1000.0)\n",
    "print results\n",
    "print phase.get_phase_component_number('liquid')\n",
    "print phase.get_phase_component_names('liquid')"
   ]
  }
 ],
 "metadata": {
  "anaconda-cloud": {},
  "kernelspec": {
   "display_name": "Python [default]",
   "language": "python",
   "name": "python2"
  },
  "language_info": {
   "codemirror_mode": {
    "name": "ipython",
    "version": 2
   },
   "file_extension": ".py",
   "mimetype": "text/x-python",
   "name": "python",
   "nbconvert_exporter": "python",
   "pygments_lexer": "ipython2",
   "version": "2.7.12"
  }
 },
 "nbformat": 4,
 "nbformat_minor": 1
}
