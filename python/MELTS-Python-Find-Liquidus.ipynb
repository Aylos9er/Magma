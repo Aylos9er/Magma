{
 "cells": [
  {
   "cell_type": "markdown",
   "metadata": {},
   "source": [
    "# MELTS - python binding workbook\n",
    "## Perform MELTS 'tutorial' calculation, finding liquidus first"
   ]
  },
  {
   "cell_type": "code",
   "execution_count": null,
   "metadata": {
    "collapsed": true
   },
   "outputs": [],
   "source": [
    "import pymelts\n",
    "import matplotlib.pyplot\n",
    "from pymelts.utilities import celsius"
   ]
  },
  {
   "cell_type": "markdown",
   "metadata": {},
   "source": [
    "## Create instance of the MELTS engine class"
   ]
  },
  {
   "cell_type": "code",
   "execution_count": null,
   "metadata": {
    "collapsed": true
   },
   "outputs": [],
   "source": [
    "engine = pymelts.Engine()"
   ]
  },
  {
   "cell_type": "markdown",
   "metadata": {},
   "source": [
    "## Test get oxide and phase names functions"
   ]
  },
  {
   "cell_type": "code",
   "execution_count": null,
   "metadata": {},
   "outputs": [],
   "source": [
    "print engine.get_oxide_names()\n",
    "print engine.get_phase_names()"
   ]
  },
  {
   "cell_type": "markdown",
   "metadata": {
    "collapsed": true
   },
   "source": [
    "## Perform a MELTS 'find liquidus' calculation"
   ]
  },
  {
   "cell_type": "code",
   "execution_count": null,
   "metadata": {
    "scrolled": false
   },
   "outputs": [],
   "source": [
    "melt = pymelts.Melt(\n",
    "        composition=pymelts.Composition(\n",
    "            SiO2=48.68, TiO2=1.01, Al2O3=17.64, Fe2O3=0.89, \n",
    "            Cr2O3=0.03, FeO=7.59, MnO=0.0, MgO=9.10, \n",
    "            CaO=12.45, Na2O=2.65, K2O=0.03, P2O5=0.08, H2O=0.2),\n",
    "        temperature=1200., \n",
    "        pressure=500.,\n",
    "        mode='liquidus',\n",
    "        calculationString='MELTS_v1.0.2',\n",
    "        solve=True)\n",
    "print melt.status\n",
    "print melt.properties\n",
    "print melt.calculationDatabase"
   ]
  },
  {
   "cell_type": "markdown",
   "metadata": {},
   "source": [
    "The result should be 1220 deg C. If the commands are executed out of order you may get a different result. Still debugging this and implementing a MeltCollection-like class for performing the same (single) calcualation multiple times for different bulk compositions."
   ]
  },
  {
   "cell_type": "code",
   "execution_count": null,
   "metadata": {},
   "outputs": [],
   "source": [
    "print celsius(melt.temperature)"
   ]
  },
  {
   "cell_type": "markdown",
   "metadata": {
    "collapsed": true
   },
   "source": [
    "## Perform a MELTS single calculation"
   ]
  },
  {
   "cell_type": "code",
   "execution_count": null,
   "metadata": {},
   "outputs": [],
   "source": [
    "melt.set_mode('ptx')\n",
    "melt.solve()\n",
    "print melt.status\n",
    "print melt.properties"
   ]
  },
  {
   "cell_type": "code",
   "execution_count": null,
   "metadata": {},
   "outputs": [],
   "source": [
    "melt.properties['liquid']['composition'].normalize()\n",
    "print melt.properties['liquid']['composition'].pretty_print()"
   ]
  },
  {
   "cell_type": "markdown",
   "metadata": {},
   "source": [
    "## Lower temperature to get liquidus phase"
   ]
  },
  {
   "cell_type": "markdown",
   "metadata": {},
   "source": [
    "We don't have a way to display affinities, just yet. So do a second calculation to determine the liquidus phase."
   ]
  },
  {
   "cell_type": "code",
   "execution_count": null,
   "metadata": {},
   "outputs": [],
   "source": [
    "melt.temperature -= 1.\n",
    "melt.solve()\n",
    "print melt.status\n",
    "print melt.properties"
   ]
  },
  {
   "cell_type": "code",
   "execution_count": null,
   "metadata": {},
   "outputs": [],
   "source": [
    "print melt.phases"
   ]
  },
  {
   "cell_type": "code",
   "execution_count": null,
   "metadata": {
    "scrolled": true
   },
   "outputs": [],
   "source": [
    "print melt.properties['feldspar']"
   ]
  },
  {
   "cell_type": "markdown",
   "metadata": {
    "collapsed": true
   },
   "source": [
    "This is similar to the 'tutorial' examples on the [MELTS Software Users Forum](https://magmasource.caltech.edu/forum/index.php/board,12.0.html). As fractional crystallization has not yet been implemented, here, the results should match only the MELTS_Excel version."
   ]
  },
  {
   "cell_type": "code",
   "execution_count": null,
   "metadata": {},
   "outputs": [],
   "source": [
    "melt.temperature += 1.0\n",
    "results_string = (\"System: P = {0.pressure:9.4g} bars, \"\n",
    "        + \"H = {0.enthalpy:9.4g} J, \"\n",
    "        + \"T = {0.temperature:9.4g} K\\n\")\n",
    "output = \"\"\n",
    "while melt.temperature >= 1000.0:\n",
    "    melt.solve()\n",
    "    output += results_string.format(melt)\n",
    "    melt.temperature -= 3.0    \n",
    "print output"
   ]
  },
  {
   "cell_type": "code",
   "execution_count": null,
   "metadata": {
    "collapsed": true
   },
   "outputs": [],
   "source": []
  }
 ],
 "metadata": {
  "anaconda-cloud": {},
  "kernelspec": {
   "display_name": "Python 2",
   "language": "python",
   "name": "python2"
  },
  "language_info": {
   "codemirror_mode": {
    "name": "ipython",
    "version": 2
   },
   "file_extension": ".py",
   "mimetype": "text/x-python",
   "name": "python",
   "nbconvert_exporter": "python",
   "pygments_lexer": "ipython2",
   "version": "2.7.13"
  }
 },
 "nbformat": 4,
 "nbformat_minor": 1
}
