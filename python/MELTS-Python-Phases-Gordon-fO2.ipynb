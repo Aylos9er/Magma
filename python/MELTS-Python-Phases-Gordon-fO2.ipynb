{
 "cells": [
  {
   "cell_type": "markdown",
   "metadata": {},
   "source": [
    "# Oxygen fugacity calculator with variable spinel compositions\n",
    "## Solution models from the MELTS data/model collection"
   ]
  },
  {
   "cell_type": "code",
   "execution_count": 43,
   "metadata": {
    "collapsed": false
   },
   "outputs": [],
   "source": [
    "import pymelts\n",
    "import numpy as np"
   ]
  },
  {
   "cell_type": "markdown",
   "metadata": {},
   "source": [
    "### Create instance of the MELTS engine class\n",
    "This will generate lists of oxide composition variables and a list of permitted phase names"
   ]
  },
  {
   "cell_type": "code",
   "execution_count": 44,
   "metadata": {
    "collapsed": false
   },
   "outputs": [
    {
     "name": "stdout",
     "output_type": "stream",
     "text": [
      "['SiO2', 'TiO2', 'Al2O3', 'Fe2O3', 'Cr2O3', 'FeO', 'MnO', 'MgO', 'NiO', 'CoO', 'CaO', 'Na2O', 'K2O', 'P2O5', 'H2O', 'CO2', 'SO3', 'Cl2O-1', 'F2O-1']\n",
      "['olivine', 'fayalite', 'sphene', 'garnet', 'melilite', 'orthopyroxene', 'clinopyroxene', 'aegirine', 'aenigmatite', 'cummingtonite', 'amphibole', 'hornblende', 'biotite', 'muscovite', 'feldspar', 'quartz', 'tridymite', 'cristobalite', 'nepheline', 'kalsilite', 'leucite', 'corundum', 'sillimanite', 'rutile', 'perovskite', 'spinel', 'rhm-oxide', 'ortho-oxide', 'whitlockite', 'apatite', 'water', 'fluid', 'alloy-solid', 'alloy-liquid', 'lime', 'periclase', 'calcite', 'aragonite', 'magnesite', 'siderite', 'dolomite', 'spurrite', 'tilleyite', 'diamond', 'graphite', 'system', 'liquid']\n"
     ]
    }
   ],
   "source": [
    "engine = pymelts.Engine()\n",
    "print engine.get_oxide_names()\n",
    "print engine.get_phase_names()"
   ]
  },
  {
   "cell_type": "markdown",
   "metadata": {},
   "source": [
    "## Gordon's spinel compositions \n",
    "```\n",
    "Sample No\tN\tAl2O3\tFeO\tSiO2\tMgO\tTotal  \n",
    "\t\t\t\t\t\t\n",
    "AHPC-19\t8\t 3.91\t88.37\t0.05\t0.43\t92.76    \t\t\t\t\t\t\n",
    "AHPC-21\t9\t 2.02\t90.55\t0.02\t0.59\t93.18  \n",
    "AHPC-23\t7\t 6.87\t85.11\t0.02\t1.12\t93.12  \n",
    "AHPC-24\t7\t 5.42\t87.21\t0.03\t0.71\t93.37  \n",
    "AHPC-25\t5\t10.78\t79.56\t0.05\t2.55\t92.94  \n",
    "AHPC-26\t4\t 4.21\t88.25\t0.07\t0.31\t91.73\t\t\t\t\t\t\n",
    "AHPC-29\t5\t13.56\t74.77\t0.03\t4.20\t92.56  \n",
    "AHPC-30\t8\t10.18\t79.23\t0.02\t3.66\t93.08  \n",
    "AHPC-31\t4\t 5.55\t87.20\t0.02\t0.54\t93.31  \n",
    "```"
   ]
  },
  {
   "cell_type": "markdown",
   "metadata": {},
   "source": [
    "### Instantiate an instance of a phase class for rhm-oxide and pure magnetite"
   ]
  },
  {
   "cell_type": "code",
   "execution_count": 45,
   "metadata": {
    "collapsed": false
   },
   "outputs": [],
   "source": [
    "hematite = pymelts.Phase('rhm-oxide', composition=pymelts.Composition(Fe2O3=159.69))\n",
    "magnetite = pymelts.Phase('spinel', composition=pymelts.Composition(FeO=71.844, Fe2O3=159.69))"
   ]
  },
  {
   "cell_type": "markdown",
   "metadata": {},
   "source": [
    "### Properties of oxygen gas (1 bar standard state)\n",
    "#### Code taken from Gibbs.c in the MELTS package"
   ]
  },
  {
   "cell_type": "code",
   "execution_count": 46,
   "metadata": {
    "collapsed": false
   },
   "outputs": [],
   "source": [
    "def oxygen(t, p):\n",
    "    r = 8.3143\n",
    "    pr = 1.0\n",
    "    tr = 298.15\n",
    "    hs = 23.10248*(t-tr) + 2.0*804.8876*(np.sqrt(t)-np.sqrt(tr)) \n",
    "    hs = hs - 1762835.0*(1.0/t-1.0/tr) \n",
    "    hs = hs - 18172.91960*np.log(t/tr) \n",
    "    hs = hs + 0.5*0.002676*(t*t-tr*tr)\n",
    "    ss = 205.15 \n",
    "    ss = ss + 23.10248*np.log(t/tr) \n",
    "    ss = ss - 2.0*804.8876*(1.0/np.sqrt(t)-1.0/np.sqrt(tr)) \n",
    "    ss = ss - 0.5*1762835.0*(1.0/(t*t)-1.0/(tr*tr)) \n",
    "    ss = ss + 18172.91960*(1.0/t-1.0/tr) + 0.002676*(t-tr)\n",
    "    return hs - t*ss"
   ]
  },
  {
   "cell_type": "markdown",
   "metadata": {},
   "source": [
    "### Calculate proterties of the pure hematite, magnetite and oxygen phase at specified T (K) and P (bars)"
   ]
  },
  {
   "cell_type": "code",
   "execution_count": 47,
   "metadata": {
    "collapsed": false
   },
   "outputs": [
    {
     "name": "stdout",
     "output_type": "stream",
     "text": [
      "chemical potential of pure hematite =  -1072910.95378\n",
      "chemical potential of pure oxygen =  -320325.964163\n",
      "chemical potential of pure magnetite -1505145.60575\n",
      "theoretical log fO2 from pure phases =  -3.60736532398\n"
     ]
    }
   ],
   "source": [
    "resHem = hematite.get_properties(temperature=1125.0+273.15, pressure=5000.0)\n",
    "resMag = magnetite.get_properties(temperature=1125.0+273.15, pressure=5000.0)\n",
    "mu0O2 = oxygen(1125.0+273.15, 5000.0)\n",
    "print 'chemical potential of pure hematite = ', resHem['hematite']\n",
    "print 'chemical potential of pure oxygen = ', mu0O2\n",
    "print 'chemical potential of pure magnetite', resMag['magnetite']\n",
    "idealLogfO2 = (6.0*resHem['hematite']-4.0*resMag['magnetite']-mu0O2)/8.3143/(1125+273.15)/np.log(10.0)\n",
    "print 'theoretical log fO2 from pure phases = ', idealLogfO2"
   ]
  },
  {
   "cell_type": "markdown",
   "metadata": {},
   "source": [
    "### Now, process the spinels\n",
    "6Fe2O3 = 4Fe3O4 + O2"
   ]
  },
  {
   "cell_type": "code",
   "execution_count": 48,
   "metadata": {
    "collapsed": false
   },
   "outputs": [
    {
     "name": "stdout",
     "output_type": "stream",
     "text": [
      "AHPC-19 log fO2 =  -3.28450180788 difference (actual-pure) 0.322863516096\n",
      "AHPC-21 log fO2 =  -3.40014171957 difference (actual-pure) 0.207223604406\n",
      "AHPC-23 log fO2 =  -3.05276860505 difference (actual-pure) 0.554596718928\n",
      "AHPC-24 log fO2 =  -3.16873649627 difference (actual-pure) 0.438628827711\n",
      "AHPC-25 log fO2 =  -2.77040596386 difference (actual-pure) 0.836959360118\n",
      "AHPC-26 log fO2 =  -3.27541227417 difference (actual-pure) 0.331953049805\n",
      "AHPC-29 log fO2 =  -2.58103888944 difference (actual-pure) 1.02632643454\n",
      "AHPC-30 log fO2 =  -2.72724128151 difference (actual-pure) 0.88012404247\n",
      "AHPC-31 log fO2 =  -3.17437911791 difference (actual-pure) 0.432986206074\n"
     ]
    }
   ],
   "source": [
    "spinel = pymelts.Phase('spinel', composition=pymelts.Composition(Al2O3=3.91, FeO=88.37, SiO2=0.05, MgO=0.43))\n",
    "results = spinel.get_properties(temperature=1125.0+273.15, pressure=5000.0)\n",
    "logfO2 = (6.0*resHem['hematite'] - 4.0*results['magnetite']-mu0O2)/8.3143/(1125.0+273.15)/np.log(10.0)\n",
    "print 'AHPC-19 log fO2 = ', logfO2, 'difference (actual-pure)', logfO2 - idealLogfO2\n",
    "\n",
    "spinel = pymelts.Phase('spinel', composition=pymelts.Composition(Al2O3=2.02, FeO=90.55, SiO2=0.02, MgO=0.59))\n",
    "results = spinel.get_properties(temperature=1125.0+273.15, pressure=5000.0)\n",
    "logfO2 = (6.0*resHem['hematite'] - 4.0*results['magnetite']-mu0O2)/8.3143/(1125.0+273.15)/np.log(10.0)\n",
    "print 'AHPC-21 log fO2 = ', logfO2, 'difference (actual-pure)', logfO2 - idealLogfO2\n",
    "   \n",
    "spinel = pymelts.Phase('spinel', composition=pymelts.Composition(Al2O3=6.87, FeO=85.11, SiO2=0.02, MgO=1.12))\n",
    "results = spinel.get_properties(temperature=1125.0+273.15, pressure=5000.0)\n",
    "logfO2 = (6.0*resHem['hematite'] - 4.0*results['magnetite']-mu0O2)/8.3143/(1125.0+273.15)/np.log(10.0)\n",
    "print 'AHPC-23 log fO2 = ', logfO2, 'difference (actual-pure)', logfO2 - idealLogfO2\n",
    "\n",
    "spinel = pymelts.Phase('spinel', composition=pymelts.Composition(Al2O3=5.42, FeO=87.21, SiO2=0.03, MgO=0.71))\n",
    "results = spinel.get_properties(temperature=1125.0+273.15, pressure=5000.0)\n",
    "logfO2 = (6.0*resHem['hematite'] - 4.0*results['magnetite']-mu0O2)/8.3143/(1125.0+273.15)/np.log(10.0)\n",
    "print 'AHPC-24 log fO2 = ', logfO2, 'difference (actual-pure)', logfO2 - idealLogfO2\n",
    "\n",
    "spinel = pymelts.Phase('spinel', composition=pymelts.Composition(Al2O3=10.78, FeO=79.56, SiO2=0.05, MgO=2.55))\n",
    "results = spinel.get_properties(temperature=1125.0+273.15, pressure=5000.0)\n",
    "logfO2 = (6.0*resHem['hematite'] - 4.0*results['magnetite']-mu0O2)/8.3143/(1125.0+273.15)/np.log(10.0)\n",
    "print 'AHPC-25 log fO2 = ', logfO2, 'difference (actual-pure)', logfO2 - idealLogfO2\n",
    "\n",
    "spinel = pymelts.Phase('spinel', composition=pymelts.Composition(Al2O3=4.21, FeO=88.25, SiO2=0.07, MgO=0.31))\n",
    "results = spinel.get_properties(temperature=1125.0+273.15, pressure=5000.0)\n",
    "logfO2 = (6.0*resHem['hematite'] - 4.0*results['magnetite']-mu0O2)/8.3143/(1125.0+273.15)/np.log(10.0)\n",
    "print 'AHPC-26 log fO2 = ', logfO2, 'difference (actual-pure)', logfO2 - idealLogfO2\n",
    "\n",
    "spinel = pymelts.Phase('spinel', composition=pymelts.Composition(Al2O3=13.56, FeO=74.77, SiO2=0.03, MgO=4.20))\n",
    "results = spinel.get_properties(temperature=1125.0+273.15, pressure=5000.0)\n",
    "logfO2 = (6.0*resHem['hematite'] - 4.0*results['magnetite']-mu0O2)/8.3143/(1125.0+273.15)/np.log(10.0)\n",
    "print 'AHPC-29 log fO2 = ', logfO2, 'difference (actual-pure)', logfO2 - idealLogfO2\n",
    "\n",
    "spinel = pymelts.Phase('spinel', composition=pymelts.Composition(Al2O3=10.18, FeO=79.23, SiO2=0.02, MgO=3.66))\n",
    "results = spinel.get_properties(temperature=1125.0+273.15, pressure=5000.0)\n",
    "logfO2 = (6.0*resHem['hematite'] - 4.0*results['magnetite']-mu0O2)/8.3143/(1125.0+273.15)/np.log(10.0)\n",
    "print 'AHPC-30 log fO2 = ', logfO2, 'difference (actual-pure)', logfO2 - idealLogfO2\n",
    "\n",
    "spinel = pymelts.Phase('spinel', composition=pymelts.Composition(Al2O3=5.55, FeO=87.20, SiO2=0.02, MgO=0.54))\n",
    "results = spinel.get_properties(temperature=1125.0+273.15, pressure=5000.0)\n",
    "logfO2 = (6.0*resHem['hematite'] - 4.0*results['magnetite']-mu0O2)/8.3143/(1125.0+273.15)/np.log(10.0)\n",
    "print 'AHPC-31 log fO2 = ', logfO2, 'difference (actual-pure)', logfO2 - idealLogfO2"
   ]
  },
  {
   "cell_type": "code",
   "execution_count": null,
   "metadata": {
    "collapsed": true
   },
   "outputs": [],
   "source": []
  }
 ],
 "metadata": {
  "anaconda-cloud": {},
  "kernelspec": {
   "display_name": "Python [default]",
   "language": "python",
   "name": "python2"
  },
  "language_info": {
   "codemirror_mode": {
    "name": "ipython",
    "version": 2
   },
   "file_extension": ".py",
   "mimetype": "text/x-python",
   "name": "python",
   "nbconvert_exporter": "python",
   "pygments_lexer": "ipython2",
   "version": "2.7.12"
  }
 },
 "nbformat": 4,
 "nbformat_minor": 1
}
